{
 "cells": [
  {
   "cell_type": "code",
   "execution_count": 2,
   "metadata": {},
   "outputs": [],
   "source": [
    "import torch \n",
    "from torch.nn.parallel.distributed import _MixedPrecision"
   ]
  },
  {
   "cell_type": "code",
   "execution_count": 54,
   "metadata": {},
   "outputs": [],
   "source": [
    "def dynamic_distance_bias_matrix(start, stop )-> torch.Tensor:\n",
    "    res = -torch.abs(torch.arange(start[0], start[1]) - torch.arange(stop[0],stop[1])[:,None])\n",
    "    #start_height_greater = start[0] >= stop[0]\n",
    "    #start_width_greater = start[1] >= stop[1]\n",
    "    start_height = start[1]-start[0]\n",
    "    stop_height = stop[1]-stop[0]\n",
    "    if start_height > stop_height:\n",
    "        return res.T\n",
    "    '''if start_height_greater and start_width_greater:\n",
    "        return res\n",
    "    elif start_height_greater or start_width_greater:\n",
    "        return res.T\n",
    "    '''\n",
    "    \n",
    "    return res"
   ]
  },
  {
   "cell_type": "code",
   "execution_count": 55,
   "metadata": {},
   "outputs": [
    {
     "data": {
      "text/plain": [
       "tensor([[ 0, -1, -2, -3, -4, -5, -6, -7],\n",
       "        [-1,  0, -1, -2, -3, -4, -5, -6],\n",
       "        [-2, -1,  0, -1, -2, -3, -4, -5],\n",
       "        [-3, -2, -1,  0, -1, -2, -3, -4],\n",
       "        [-4, -3, -2, -1,  0, -1, -2, -3],\n",
       "        [-5, -4, -3, -2, -1,  0, -1, -2],\n",
       "        [-6, -5, -4, -3, -2, -1,  0, -1],\n",
       "        [-7, -6, -5, -4, -3, -2, -1,  0]])"
      ]
     },
     "execution_count": 55,
     "metadata": {},
     "output_type": "execute_result"
    }
   ],
   "source": [
    "base = dynamic_distance_bias_matrix((0,8), (0,8))\n",
    "base"
   ]
  },
  {
   "cell_type": "code",
   "execution_count": 58,
   "metadata": {},
   "outputs": [
    {
     "data": {
      "text/plain": [
       "tensor([[ 0, -1],\n",
       "        [-1,  0],\n",
       "        [-2, -1],\n",
       "        [-3, -2]])"
      ]
     },
     "execution_count": 58,
     "metadata": {},
     "output_type": "execute_result"
    }
   ],
   "source": [
    "block_sram = dynamic_distance_bias_matrix((2,6), (2,4))\n",
    "block_sram\n"
   ]
  },
  {
   "cell_type": "code",
   "execution_count": null,
   "metadata": {},
   "outputs": [],
   "source": []
  },
  {
   "cell_type": "code",
   "execution_count": 5,
   "metadata": {},
   "outputs": [
    {
     "name": "stdout",
     "output_type": "stream",
     "text": [
      "distance_bias_matrix[0:10]=tensor([[ 0, -1, -2, -3, -4],\n",
      "        [-1,  0, -1, -2, -3],\n",
      "        [-2, -1,  0, -1, -2],\n",
      "        [-3, -2, -1,  0, -1],\n",
      "        [-4, -3, -2, -1,  0]])\n"
     ]
    }
   ],
   "source": [
    "\n",
    "distance_bias_matrix = -torch.abs(\n",
    "            torch.arange(5,10) - torch.arange(5,10)[:,None]\n",
    "        )\n",
    "print(f\"{distance_bias_matrix[0:10]=}\")"
   ]
  },
  {
   "cell_type": "code",
   "execution_count": 2,
   "metadata": {},
   "outputs": [],
   "source": [
    "bf16_policy = _MixedPrecision(\n",
    "    param_dtype=torch.bfloat16,\n",
    "    reduce_dtype=torch.bfloat16,\n",
    "    buffer_dtype=torch.bfloat16,\n",
    ")\n",
    "\n"
   ]
  },
  {
   "cell_type": "code",
   "execution_count": null,
   "metadata": {},
   "outputs": [],
   "source": [
    "model = torch.nn.Linear(12, 24)"
   ]
  },
  {
   "cell_type": "code",
   "execution_count": 4,
   "metadata": {},
   "outputs": [],
   "source": [
    "from torch.nn.parallel import DistributedDataParallel as DDP"
   ]
  },
  {
   "cell_type": "code",
   "execution_count": null,
   "metadata": {},
   "outputs": [],
   "source": [
    "model = DDP(model, mixed_precision = bf16_policy)"
   ]
  },
  {
   "cell_type": "code",
   "execution_count": null,
   "metadata": {},
   "outputs": [],
   "source": []
  }
 ],
 "metadata": {
  "kernelspec": {
   "display_name": "base",
   "language": "python",
   "name": "python3"
  },
  "language_info": {
   "codemirror_mode": {
    "name": "ipython",
    "version": 3
   },
   "file_extension": ".py",
   "mimetype": "text/x-python",
   "name": "python",
   "nbconvert_exporter": "python",
   "pygments_lexer": "ipython3",
   "version": "3.9.12"
  },
  "orig_nbformat": 4
 },
 "nbformat": 4,
 "nbformat_minor": 2
}
